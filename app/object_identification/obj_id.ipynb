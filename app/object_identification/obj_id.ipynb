{
 "cells": [
  {
   "cell_type": "markdown",
   "id": "e2f1531a",
   "metadata": {},
   "source": [
    "# Identifies objects in picture files"
   ]
  },
  {
   "cell_type": "code",
   "execution_count": 5,
   "id": "b2ddbb75",
   "metadata": {},
   "outputs": [
    {
     "name": "stdout",
     "output_type": "stream",
     "text": [
      "{'start_corner': [89, 30], 'stop_corner': [337, 280], 'class': 'dog', 'confidence': 0.9139481782913208}\n",
      "{'start_corner': [367, 46], 'stop_corner': [655, 290], 'class': 'dog', 'confidence': 0.9941235184669495}\n",
      "{'start_corner': [103, 316], 'stop_corner': [319, 498], 'class': 'dog', 'confidence': 0.9692137241363525}\n",
      "{'start_corner': [388, 305], 'stop_corner': [657, 544], 'class': 'dog', 'confidence': 0.7733085751533508}\n"
     ]
    }
   ],
   "source": [
    "import cv2\n",
    "import numpy as np\n",
    "\n",
    "darknet_directory = \"../../resources/darknet/\"\n",
    "resources = \"../../resources/\"\n",
    "\n",
    "\n",
    "# Load YOLOv3 model\n",
    "weights = darknet_directory + \"yolov3.weights\"\n",
    "cfg = darknet_directory + \"yolov3.cfg\"\n",
    "coco_names = darknet_directory + \"coco.names\"\n",
    "\n",
    "net = cv2.dnn.readNet(weights, cfg)\n",
    "with open(coco_names, \"r\") as f:\n",
    "    classes = [line.strip() for line in f.readlines()]\n",
    "\n",
    "# Load image\n",
    "img_src = resources + \"testpics/\" + \"no_metadata_testpic_dogs.jpeg\"\n",
    "image = cv2.imread(img_src)\n",
    "height, width = image.shape[:2]\n",
    "\n",
    "# Prepare image for YOLO\n",
    "blob = cv2.dnn.blobFromImage(image, 1/255.0, (416, 416), swapRB=True, crop=False)\n",
    "net.setInput(blob)\n",
    "output_layers = net.getUnconnectedOutLayersNames()\n",
    "layer_outputs = net.forward(output_layers)\n",
    "\n",
    "# Initialize lists for detected objects and bounding boxes\n",
    "boxes = []\n",
    "confidences = []\n",
    "class_ids = []\n",
    "\n",
    "# Process detections\n",
    "for output in layer_outputs:\n",
    "    for detection in output:\n",
    "        scores = detection[5:]\n",
    "        class_id = np.argmax(scores)\n",
    "        confidence = scores[class_id]\n",
    "        if confidence > 0.5:  # Confidence threshold\n",
    "            center_x = int(detection[0] * width)\n",
    "            center_y = int(detection[1] * height)\n",
    "            w = int(detection[2] * width)\n",
    "            h = int(detection[3] * height)\n",
    "\n",
    "            # Calculate top-left corner\n",
    "            x = int(center_x - w / 2)\n",
    "            y = int(center_y - h / 2)\n",
    "\n",
    "            boxes.append([x, y, w, h])\n",
    "            confidences.append(float(confidence))\n",
    "            class_ids.append(class_id)\n",
    "\n",
    "# Apply non-max suppression to remove redundant boxes\n",
    "indexes = cv2.dnn.NMSBoxes(boxes, confidences, 0.5, 0.4)\n",
    "\n",
    "# Format bounding boxes as requested\n",
    "bounding_boxes = []\n",
    "for i in range(len(boxes)):\n",
    "    if i in indexes:\n",
    "        x, y, w, h = boxes[i]\n",
    "        start_corner = [x, y]\n",
    "        stop_corner = [x + w, y + h]\n",
    "        bounding_boxes.append({\n",
    "            \"start_corner\": start_corner,\n",
    "            \"stop_corner\": stop_corner,\n",
    "            \"class\": classes[class_ids[i]],\n",
    "            \"confidence\": confidences[i]\n",
    "        })\n",
    "\n",
    "# Print bounding boxes\n",
    "for box in bounding_boxes:\n",
    "    print(box)\n"
   ]
  }
 ],
 "metadata": {
  "kernelspec": {
   "display_name": ".venv",
   "language": "python",
   "name": "python3"
  },
  "language_info": {
   "codemirror_mode": {
    "name": "ipython",
    "version": 3
   },
   "file_extension": ".py",
   "mimetype": "text/x-python",
   "name": "python",
   "nbconvert_exporter": "python",
   "pygments_lexer": "ipython3",
   "version": "3.12.3"
  }
 },
 "nbformat": 4,
 "nbformat_minor": 5
}
