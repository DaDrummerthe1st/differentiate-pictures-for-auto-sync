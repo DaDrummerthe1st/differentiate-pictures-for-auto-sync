{
 "cells": [
  {
   "cell_type": "markdown",
   "id": "e2f1531a",
   "metadata": {},
   "source": [
    "# Identifies objects in picture files"
   ]
  },
  {
   "cell_type": "code",
   "execution_count": null,
   "id": "a319d0a2",
   "metadata": {
    "vscode": {
     "languageId": "plaintext"
    }
   },
   "outputs": [],
   "source": []
  },
  {
   "cell_type": "code",
   "execution_count": null,
   "id": "b2ddbb75",
   "metadata": {
    "vscode": {
     "languageId": "plaintext"
    }
   },
   "outputs": [],
   "source": []
  }
 ],
 "metadata": {
  "language_info": {
   "name": "python"
  }
 },
 "nbformat": 4,
 "nbformat_minor": 5
}
